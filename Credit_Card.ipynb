{
 "cells": [
  {
   "cell_type": "code",
   "execution_count": 76,
   "id": "56918713",
   "metadata": {},
   "outputs": [],
   "source": [
    "import pandas as pd\n",
    "import numpy as np\n",
    "import plotly.express as px\n",
    "from dash import Dash,dash_table,Input,Output,html,dcc\n",
    "from dash.exceptions import PreventUpdate\n",
    "from dash_bootstrap_templates import load_figure_template as lft\n",
    "import dash_bootstrap_components as dbc"
   ]
  },
  {
   "cell_type": "code",
   "execution_count": 12,
   "id": "118c5add",
   "metadata": {},
   "outputs": [],
   "source": [
    "Customer=pd.read_csv(r\"C:\\Users\\akhia\\Documents\\Python dataanalysis\\Resume project\\dim_customers.csv\")\n",
    "Payment=pd.read_csv(r\"C:\\Users\\akhia\\Documents\\Python dataanalysis\\Resume project\\fact_spends.csv\")"
   ]
  },
  {
   "cell_type": "code",
   "execution_count": null,
   "id": "0f739393",
   "metadata": {},
   "outputs": [],
   "source": [
    "pd.merge(Customer,avg_spend,on='customer_id',how='left')"
   ]
  },
  {
   "cell_type": "code",
   "execution_count": 37,
   "id": "1932a7c3",
   "metadata": {},
   "outputs": [],
   "source": [
    "avg_spend=Payment.groupby('customer_id',as_index=False).agg({'spend':'sum'})"
   ]
  },
  {
   "cell_type": "code",
   "execution_count": 38,
   "id": "5baf1158",
   "metadata": {},
   "outputs": [],
   "source": [
    "Avg_df=pd.merge(Customer,avg_spend,on='customer_id',how='left')"
   ]
  },
  {
   "cell_type": "code",
   "execution_count": 201,
   "id": "c65e252a",
   "metadata": {},
   "outputs": [],
   "source": [
    "Full_df=pd.merge(Payment,Avg_df,on='customer_id',how='left').drop(columns='Average Spend')"
   ]
  },
  {
   "cell_type": "code",
   "execution_count": 52,
   "id": "a5813643",
   "metadata": {},
   "outputs": [],
   "source": [
    "Avg_df['Avg income utilisation']=Avg_df['Average Spend']/Avg_df['avg_income']"
   ]
  },
  {
   "cell_type": "code",
   "execution_count": 42,
   "id": "d6c85510",
   "metadata": {},
   "outputs": [],
   "source": [
    "Avg_df.rename(columns={'spend':'Average Spend'},inplace=True)"
   ]
  },
  {
   "cell_type": "code",
   "execution_count": 334,
   "id": "efb6640a",
   "metadata": {},
   "outputs": [
    {
     "data": {
      "text/plain": [
       "array(['July', 'October', 'May', 'September', 'June', 'August'],\n",
       "      dtype=object)"
      ]
     },
     "execution_count": 334,
     "metadata": {},
     "output_type": "execute_result"
    }
   ],
   "source": [
    "Full_df['month'].unique()"
   ]
  },
  {
   "cell_type": "code",
   "execution_count": null,
   "id": "0f434a98",
   "metadata": {},
   "outputs": [],
   "source": []
  },
  {
   "cell_type": "code",
   "execution_count": 338,
   "id": "3ca1c711",
   "metadata": {},
   "outputs": [
    {
     "name": "stdout",
     "output_type": "stream",
     "text": [
      "Dash app running on http://127.0.0.1:8336/\n"
     ]
    },
    {
     "data": {
      "application/javascript": [
       "window.open('http://127.0.0.1:8336/')"
      ],
      "text/plain": [
       "<IPython.core.display.Javascript object>"
      ]
     },
     "metadata": {},
     "output_type": "display_data"
    }
   ],
   "source": [
    "dbc_css = \"https://cdn.jsdelivr.net/gh/AnnMarieW/dash-bootstrap-templates/dbc.min.css\"\n",
    "app=Dash(__name__,external_stylesheets=[dbc.themes.SLATE,dbc_css])\n",
    "lft('SLATE')\n",
    "app.layout=html.Div([\n",
    "    dcc.Tabs(\n",
    "    className='custom-tabs-container',\n",
    "    children=[\n",
    "        dcc.Tab(id='tab 0',label='Data Set',className='dbc',  #Tab 1\n",
    "               children=[\n",
    "                   html.H1(\" Data Set in Different City\",style={\n",
    "                       'color':\"#fa0a6a\",\n",
    "                       'text-align':'center',\n",
    "                       'fontFamily':'Arial'\n",
    "                       \n",
    "                   }),\n",
    "                   dbc.Row(dcc.RadioItems(id='city',           #Radioitems for different city\n",
    "                                options=Full_df['city'].unique(),\n",
    "                                value='Bengaluru',className='dbc',inline=True,\n",
    "                                )),\n",
    "                   html.Br(),\n",
    "                   dbc.Row(html.Div(id='Table') )                \n",
    "                   \n",
    "               ]\n",
    "               ),\n",
    "        dcc.Tab( id='tab 1',label='Avg income utilisation ',className='dbc',   #Tab 2\n",
    "                children=[  \n",
    "                            dbc.Row(\n",
    "                                \n",
    "                                html.H1(\"Average income utilisation of different catagories\",\n",
    "                                       style={  'color':\"#fa0a6a\",\n",
    "                                                'text-align':'center',\n",
    "                                                'fontFamily':'Arial'}\n",
    "                                       )),\n",
    "                        \n",
    "                        html.Br(),\n",
    "                            dbc.Row(dcc.RadioItems(id='check',    #Radioitems for different category\n",
    "                                       options=\n",
    "                                                   [    {'label': '  Age Group ', 'value': 'age_group'},\n",
    "                                                        {'label': '  City ', 'value': 'city'},\n",
    "                                                        {'label': '  Occupation ', 'value': 'occupation'},\n",
    "                                                        {'label': '  Gender ', 'value': 'gender'},\n",
    "                                                        {'label': '  Marital status ', 'value': 'marital status'}],\n",
    "                                       value='occupation',inline=True,\n",
    "                                                  className='dbc')),\n",
    "                        html.Br(),\n",
    "                            dbc.Row(\n",
    "                                  children=\n",
    "                                              [dbc.Col(dcc.Graph(id='fig')),       #bar graphs in Tab 2\n",
    "                                               html.Br(),\n",
    "                                                dbc.Col(dcc.Graph(id='fig1-2')) ] \n",
    "                          \n",
    "                                  ) \n",
    "                                \n",
    "                                \n",
    "                                ]),\n",
    "        dcc.Tab(id='tab 2',label='Spending Insights and Payment Methods',    #tab 3\n",
    "                children=[dbc.Row(html.H1(\"Payment Method analysis\",\n",
    "                                         style={  'color':\"#fa0a6a\",\n",
    "                                                'text-align':'center',\n",
    "                                                'fontFamily':'Arial'})),\n",
    "                         html.Br(),\n",
    "                         dbc.Row(\n",
    "                                 children=[\n",
    "                                     html.H2('Categories'),\n",
    "                                     dbc.Col(dcc.RadioItems(id='check2',          #Radioitems for different category\n",
    "                                               options=Full_df['category'].unique(),\n",
    "                                               value=['Food'],className='dbc'),width=3),\n",
    "                                     html.Br(),\n",
    "                                     dbc.Col(dcc.Graph(id='fig2'),width=7),      #Line Graph\n",
    "                                     dbc.Col(width=2)\n",
    "                                         ]\n",
    "                                 ),\n",
    "                          html.Br(),\n",
    "                          dbc.Row(\n",
    "                                 children=[\n",
    "                                     html.H2('Month'), \n",
    "                                     dbc.Col(dcc.RadioItems(id='check2-1',      #Radioitems for different month\n",
    "                                               options=Full_df['month'].unique(),\n",
    "                                               value=['May'],className='dbc')\n",
    "                                             ,width=2),\n",
    "                                     html.Br(),\n",
    "                                     dbc.Col(dcc.Graph(id='fig2-1'),width=5),     #pie charts \n",
    "                                     dbc.Col(dcc.Graph(id='fig2-2'),width=5)\n",
    "                                         ]\n",
    "                                 )\n",
    "                         \n",
    "                         \n",
    "                         ])\n",
    "        \n",
    "    ], colors={                             #Tab Header and style\n",
    "        \"border\": \"grey\",\n",
    "        \"primary\": \"gold\",\n",
    "        \"background\": \"#0f1133\",\n",
    "        \n",
    "    },style={'fontSize':22,\n",
    "             'fontWeight': 'bold'}\n",
    "    )    \n",
    "])\n",
    "\n",
    "@app.callback(Output('Table','children'),             #Tab 1 Callback\n",
    "              Input('city','value'))\n",
    "\n",
    "def table_op(c):\n",
    "    df=Full_df.query(\"city == @c and payment_type =='Credit Card'\")         #dash table\n",
    "    table=dash_table.DataTable(\n",
    "        columns=[{\"name\":i,'id':i}for i in df.columns],\n",
    "        data=df.to_dict('records'),\n",
    "        filter_action='native',\n",
    "        sort_action='native',\n",
    "        export_format='csv',\n",
    "        page_size=20,\n",
    "        style_header={\n",
    "            'color':'Black',\n",
    "            'backgroundColor': 'lightblue',\n",
    "            'fontWeight': 'bold'\n",
    "        },\n",
    "        style_cell_conditional=[\n",
    "                {\n",
    "                    'if': {'column_id': c},\n",
    "                    'textAlign': 'left'\n",
    "                } for c in ['customer_id','month']\n",
    "            ],\n",
    "        style_data={\n",
    "            'color':'Black',\n",
    "            'backgroundColor': 'lightgrey',\n",
    "            \n",
    "        }\n",
    "#    style_as_list_view=True,\n",
    "      \n",
    "    )\n",
    "    return table\n",
    "\n",
    "@app.callback(Output('fig','figure'),                 #Tab 2 Callback\n",
    "              Output('fig1-2','figure'),\n",
    "             Input('check','value'))\n",
    "\n",
    "\n",
    "def plot(v):\n",
    "    \n",
    "    df=(Avg_df.groupby( v,as_index=False)\n",
    "               .agg({'Avg income utilisation':'mean'}\n",
    "                ).sort_values(['Avg income utilisation'],ascending=False))\n",
    "    \n",
    "    fig=px.bar(df,                                                        #bar graph 1\n",
    "                  x=v,y='Avg income utilisation', \n",
    "                   title=F\"Mean Avgerage Income Spend of Different {v}\"\n",
    "      ).update_layout(title_x=.5,title_y=.98)\n",
    "    \n",
    "    fig2=px.bar((Avg_df.groupby( v,as_index=False)                         #bar graph 2\n",
    "               .agg({'avg_income':'mean','Average Spend':'mean'}\n",
    "                ).sort_values(['Average Spend','avg_income'],ascending=False)),\n",
    "                  x=v,y=[ 'Average Spend','avg_income'], barmode='group',\n",
    "                   title=F\"Income and Spend - {v}\"\n",
    "      ).update_layout(title_x=.5,title_y=.98)\n",
    "    return fig, fig2\n",
    "\n",
    "@app.callback(Output('fig2','figure'),                 #Tab 3 Callback\n",
    "              Output('fig2-1','figure'),\n",
    "              Output('fig2-2','figure'),\n",
    "             Input('check2','value'),\n",
    "             Input('check2-1','value'))\n",
    "\n",
    "\n",
    "def plot(t,m):\n",
    "    \n",
    "    \n",
    "    \n",
    "    fig=px.line((Full_df.groupby(['category','month','payment_type'],as_index=False).agg({'spend':'sum'})     #line graph \n",
    "                .query(\"category == @t\")),\n",
    "         x='month',y='spend',\n",
    "        color=\"payment_type\",\n",
    "        title=\"Different Payment Methods\"\n",
    "       ).update_layout(title_x=.5,title_y=.95)\n",
    "    \n",
    "    fig2=px.pie(((Full_df.groupby(['month','payment_type'],as_index=False).agg({'spend':'sum'})  #pie graph 1\n",
    "                .query(\"month == @m\"))),\n",
    "       values='spend',names='payment_type'\n",
    "               ).update_layout(\n",
    "        title=f'Different Payment Methods {m} month',\n",
    "        title_x=.5,title_y=.95)\n",
    "    fig3=px.pie(((Full_df.groupby(['month','category'],as_index=False).agg({'spend':'sum'})  #pie graph 2\n",
    "                .query(\"month == @m\"))),\n",
    "       values='spend',names='category').update_layout(\n",
    "        title=f'Different Categories {m} month',\n",
    "        title_x=.5,title_y=.95)\n",
    "    \n",
    "    return fig  ,fig2,fig3\n",
    "    \n",
    "if __name__=='__main__':\n",
    "    app.run_server(\n",
    "        jupyter_mode='tab',\n",
    "        port=8336)"
   ]
  },
  {
   "cell_type": "code",
   "execution_count": null,
   "id": "5f73f098",
   "metadata": {},
   "outputs": [],
   "source": []
  },
  {
   "cell_type": "code",
   "execution_count": null,
   "id": "987092e5",
   "metadata": {},
   "outputs": [],
   "source": [
    "\n"
   ]
  },
  {
   "cell_type": "code",
   "execution_count": null,
   "id": "ed4555fa",
   "metadata": {},
   "outputs": [],
   "source": []
  },
  {
   "cell_type": "code",
   "execution_count": null,
   "id": "882cf80b",
   "metadata": {},
   "outputs": [],
   "source": []
  },
  {
   "cell_type": "code",
   "execution_count": null,
   "id": "724be139",
   "metadata": {},
   "outputs": [],
   "source": []
  },
  {
   "cell_type": "code",
   "execution_count": null,
   "id": "95ff3dc1",
   "metadata": {},
   "outputs": [],
   "source": []
  },
  {
   "cell_type": "code",
   "execution_count": null,
   "id": "ee61de86",
   "metadata": {},
   "outputs": [],
   "source": []
  },
  {
   "cell_type": "code",
   "execution_count": null,
   "id": "385d068d",
   "metadata": {},
   "outputs": [],
   "source": []
  },
  {
   "cell_type": "code",
   "execution_count": null,
   "id": "b390ef7a",
   "metadata": {},
   "outputs": [],
   "source": []
  },
  {
   "cell_type": "code",
   "execution_count": null,
   "id": "5fc60792",
   "metadata": {},
   "outputs": [],
   "source": []
  },
  {
   "cell_type": "code",
   "execution_count": null,
   "id": "94a7a908",
   "metadata": {},
   "outputs": [],
   "source": []
  },
  {
   "cell_type": "code",
   "execution_count": null,
   "id": "30761e3d",
   "metadata": {},
   "outputs": [],
   "source": []
  }
 ],
 "metadata": {
  "kernelspec": {
   "display_name": "Python 3 (ipykernel)",
   "language": "python",
   "name": "python3"
  },
  "language_info": {
   "codemirror_mode": {
    "name": "ipython",
    "version": 3
   },
   "file_extension": ".py",
   "mimetype": "text/x-python",
   "name": "python",
   "nbconvert_exporter": "python",
   "pygments_lexer": "ipython3",
   "version": "3.11.5"
  }
 },
 "nbformat": 4,
 "nbformat_minor": 5
}
